{
 "cells": [
  {
   "cell_type": "markdown",
   "metadata": {
    "slideshow": {
     "slide_type": "slide"
    }
   },
   "source": [
    "\n",
    " # Determinación de los parámetros cosmológicos a partir de métodos de aprendizaje automático\n",
    "\n",
    "\n",
    "\n",
    "### Martín de los Rios, Mariano Dominguez"
   ]
  },
  {
   "cell_type": "code",
   "execution_count": 11,
   "metadata": {
    "collapsed": false,
    "slideshow": {
     "slide_type": "skip"
    }
   },
   "outputs": [
    {
     "name": "stderr",
     "output_type": "stream",
     "text": [
      "Loading required package: lattice\n",
      "Loading required package: ggplot2\n",
      "\n",
      "Attaching package: ‘ggplot2’\n",
      "\n",
      "The following object is masked from ‘package:randomForest’:\n",
      "\n",
      "    margin\n",
      "\n"
     ]
    }
   ],
   "source": [
    "#Funciones necesarias para correr todo\n",
    "#Feature selection por bineado\n",
    "#{{{\n",
    "feature.select<-function(x,y,n.feat,x.min,x.max){\n",
    "  #xbin=(max(x)-min(x))/(n.feat)\n",
    "  xbin=(x.max-x.min)/(n.feat)\n",
    "\n",
    "  y.feat<-1:n.feat\n",
    "  x.feat<-1:n.feat\n",
    "\n",
    "  dx=0.00001 #Es para evitar que el maximo se quede afuera por redondeo de la compu\n",
    "  for(i in 1:n.feat){\n",
    "    #x.feat[i]=min(x)+xbin*(2*(i-1)+1)/2\n",
    "    x.feat[i]=x.min+xbin*(2*(i-1)+1)/2\n",
    "    xmin=x.feat[i]-xbin/2\n",
    "    xmax=x.feat[i]+xbin/2\n",
    "    y.aux<-y[which(x>=(xmin-dx) & x<=(xmax+dx))]\n",
    "    if(length(y.aux) > 1){\n",
    "      y.feat[i]=mean(y.aux)\n",
    "    } else if (length(y.aux) == 1){\n",
    "      y.feat[i]= y.aux[1]\n",
    "    } else if (length(y.aux) == 0){\n",
    "      y.feat[i]= -9999\n",
    "    }\n",
    "  }\n",
    "\n",
    "  for(i in 1:n.feat){\n",
    "    if(y.feat[i] == -9999){\n",
    "      ysup=-9999\n",
    "      yinf=-9999\n",
    "      for(j in 1:(n.feat-1)){\n",
    "        if(ysup<0 & (i+j) <= n.feat){\n",
    "          if(y.feat[i+j] > 0){ysup=y.feat[i+j]}\n",
    "        }\n",
    "        if(yinf<0 & (i-j) > 0){\n",
    "          if(y.feat[i-j] > 0){yinf=y.feat[i-j]}\n",
    "        }\n",
    "      }\n",
    "      y.feat[i]=(ysup+yinf)/2\n",
    "    }\n",
    "  }\n",
    "\n",
    "  y.feat[which(y.feat < 0)]=0\n",
    "\n",
    "  mat<-data.frame(x.feat,y.feat)\n",
    "  return(mat)\n",
    "}\n",
    "#}}}\n",
    "#Feature selection por bineado (cmb)\n",
    "#{{{\n",
    "feature.select.cmb<-function(x,y,n.feat){\n",
    "  xbin=(max(x)-min(x))/(n.feat)\n",
    "\n",
    "  y.feat<-1:n.feat\n",
    "  x.feat<-1:n.feat\n",
    "\n",
    "  for(i in 1:n.feat){\n",
    "    x.feat[i]=min(x)+xbin*(2*(i-1)+1)/2\n",
    "    xmin=x.feat[i]-xbin/2\n",
    "    xmax=x.feat[i]+xbin/2\n",
    "    y.feat[i]=mean(y[which(x>=xmin & x<xmax)])\n",
    "  }\n",
    "\n",
    "  mat<-data.frame(x.feat,y.feat)\n",
    "}\n",
    "#}}}\n",
    "\n",
    "#PCA_mat\n",
    "#{{{\n",
    "PCA_mat<-function(dat){\n",
    "  mat_cov<-cov(dat)\n",
    "  eig<-eigen(mat_cov)\n",
    "  mat_cb<-solve(eig$vectors) \n",
    "\n",
    "  return(mat_cb)\n",
    "}\n",
    "#}}}\n",
    "\n",
    "#validacion\n",
    "#{{{\n",
    "validacion<-function(datos,datos_aux){\n",
    "\n",
    "  fl=0\n",
    "  datos_aux<-subset(datos_aux,datos_aux$y.feat > 0)\n",
    "  for(i in 1:length(datos_aux$y.feat)){\n",
    "    if((datos_aux$y.feat[i] < min(datos[,4+i]) | (datos_aux$y.feat[i] > max(datos[,4+i])))){fl=1}\n",
    "  }\n",
    "\n",
    "  return(fl)\n",
    "}\n",
    "#}}}\n",
    "#validacion1\n",
    "#{{{\n",
    "validacion1<-function(datos,datos_aux){\n",
    "\n",
    "  flags<-1:length(datos_aux$y.feat)\n",
    "  flags[]=0\n",
    "  for(i in 1:length(datos_aux$y.feat)){\n",
    "    if((datos_aux$y.feat[i] < min(datos[,4+i]) | (datos_aux$y.feat[i] > max(datos[,4+i])))){\n",
    "      flags[i]=1\n",
    "    }\n",
    "  }\n",
    "\n",
    "  return(flags)\n",
    "}\n",
    "#}}}\n",
    "#rename\n",
    "#{{{\n",
    "rename<-function(trainset){\n",
    "\n",
    "  name1<-colnames(trainset)[1]\n",
    "  trainset_aux<-trainset[,-1]\n",
    "\n",
    "  name<-1:(length(trainset)-1)\n",
    "  for(i in 1:length(name)){\n",
    "    name[i]<-paste('X',toString(i),sep='')\n",
    "  }\n",
    " \n",
    "  name<-c(name1,name)\n",
    "  colnames(trainset)<-name\n",
    "  return(trainset)\n",
    "}\n",
    "#}}}\n",
    "#rename1\n",
    "#{{{\n",
    "rename1<-function(trainset){\n",
    "\n",
    "  trainset_aux<-trainset\n",
    "\n",
    "  name<-1:length(trainset_aux)\n",
    "  for(i in 1:length(trainset_aux)){\n",
    "    name[i]<-paste('X',toString(i),sep='')\n",
    "  }\n",
    " \n",
    "  colnames(trainset)<-name\n",
    "  return(trainset)\n",
    "}\n",
    "#}}}\n",
    "library('latex2exp')\n",
    "library('caret')"
   ]
  },
  {
   "cell_type": "markdown",
   "metadata": {
    "slideshow": {
     "slide_type": "slide"
    }
   },
   "source": [
    "## Técnicas de Aprendizaje automático\n",
    "\n",
    "* Aprendizaje Supervisado\n",
    "* Aprendizaje no supervisado"
   ]
  },
  {
   "cell_type": "markdown",
   "metadata": {
    "slideshow": {
     "slide_type": "subslide"
    }
   },
   "source": [
    "### Aprendizaje Supervisado\n",
    "<center>\n",
    "<img src=\"aprendizaje_supervisado1.jpg\" width=890>\n"
   ]
  },
  {
   "cell_type": "markdown",
   "metadata": {
    "slideshow": {
     "slide_type": "subslide"
    }
   },
   "source": [
    "#### Random Forest\n",
    "<center>\n",
    "<img src=rf.png width=800>"
   ]
  },
  {
   "cell_type": "markdown",
   "metadata": {
    "slideshow": {
     "slide_type": "subslide"
    }
   },
   "source": [
    "#### Support Vector Machine\n",
    "\n",
    "|                           |                              |\n",
    "|:--------------------------|-----------------------------:|\n",
    "|<img src=svm.png width=400>| <img src= svm3.png width=800>|\n",
    "\n"
   ]
  },
  {
   "cell_type": "markdown",
   "metadata": {
    "slideshow": {
     "slide_type": "subslide"
    }
   },
   "source": [
    "#### Redes Neuronales\n",
    "\n",
    "<center>\n",
    "<img src=nn.png width=900>"
   ]
  },
  {
   "cell_type": "markdown",
   "metadata": {
    "slideshow": {
     "slide_type": "subslide"
    }
   },
   "source": [
    "#### Ejemplo simple de aprendizáje supervisado"
   ]
  },
  {
   "cell_type": "code",
   "execution_count": 8,
   "metadata": {
    "collapsed": false,
    "scrolled": true,
    "slideshow": {
     "slide_type": "subslide"
    }
   },
   "outputs": [
    {
     "data": {
      "text/plain": [
       "  Sepal.Length    Sepal.Width     Petal.Length    Petal.Width   \n",
       " Min.   :4.300   Min.   :2.000   Min.   :1.000   Min.   :0.100  \n",
       " 1st Qu.:5.100   1st Qu.:2.800   1st Qu.:1.600   1st Qu.:0.300  \n",
       " Median :5.800   Median :3.000   Median :4.350   Median :1.300  \n",
       " Mean   :5.843   Mean   :3.057   Mean   :3.758   Mean   :1.199  \n",
       " 3rd Qu.:6.400   3rd Qu.:3.300   3rd Qu.:5.100   3rd Qu.:1.800  \n",
       " Max.   :7.900   Max.   :4.400   Max.   :6.900   Max.   :2.500  \n",
       "       Species  \n",
       " setosa    :50  \n",
       " versicolor:50  \n",
       " virginica :50  \n",
       "                \n",
       "                \n",
       "                "
      ]
     },
     "metadata": {},
     "output_type": "display_data"
    }
   ],
   "source": [
    "summary(iris)"
   ]
  },
  {
   "cell_type": "code",
   "execution_count": 9,
   "metadata": {
    "collapsed": false,
    "slideshow": {
     "slide_type": "subslide"
    }
   },
   "outputs": [],
   "source": [
    "#Cargamos la libreria\n",
    "library('randomForest')\n",
    "\n",
    "#Separamos en set de entrenamiento y testeo\n",
    "ind<-sample(x=1:length(iris$Species),replace=F,size = 120)\n",
    "set_entrenamiento<-iris[ind,]\n",
    "set_testeo<-iris[-ind,]\n",
    "\n",
    "#Entrenamos un modelo de aprendizaje automático\n",
    "model<-randomForest(Species~., data=set_entrenamiento)\n",
    "\n",
    "#Predecimos la especie para el set de testeo\n",
    "especie_predicha<-predict(model,newdata = set_testeo)"
   ]
  },
  {
   "cell_type": "code",
   "execution_count": 13,
   "metadata": {
    "collapsed": false,
    "scrolled": true,
    "slideshow": {
     "slide_type": "subslide"
    }
   },
   "outputs": [
    {
     "data": {
      "text/plain": [
       "            Reference\n",
       "Prediction   setosa versicolor virginica\n",
       "  setosa         12          0         0\n",
       "  versicolor      0          8         1\n",
       "  virginica       0          1         8"
      ]
     },
     "metadata": {},
     "output_type": "display_data"
    }
   ],
   "source": [
    "confusionMatrix(data = especie_predicha,reference = set_testeo$Species)$table"
   ]
  },
  {
   "cell_type": "markdown",
   "metadata": {
    "slideshow": {
     "slide_type": "subslide"
    }
   },
   "source": [
    "### Aprendizaje No Supervisado\n",
    "<center>\n",
    "<img src=\"aprendizaje_nosupervisado.jpg\" width=900>\n"
   ]
  },
  {
   "cell_type": "markdown",
   "metadata": {
    "slideshow": {
     "slide_type": "subslide"
    }
   },
   "source": [
    "#### Mixtura de Gaussianas\n",
    "\n",
    "<center>\n",
    "<img src=mixt_gauss.png width=900>"
   ]
  },
  {
   "cell_type": "markdown",
   "metadata": {
    "slideshow": {
     "slide_type": "subslide"
    }
   },
   "source": [
    "#### Análisis de Componentes Principales\n",
    "\n",
    "<center>\n",
    "<img src=pca_example.gif width=500>"
   ]
  },
  {
   "cell_type": "markdown",
   "metadata": {
    "slideshow": {
     "slide_type": "subslide"
    }
   },
   "source": [
    "#### Ejemplo simple de aprendizáje no supervisado"
   ]
  },
  {
   "cell_type": "code",
   "execution_count": 28,
   "metadata": {
    "collapsed": false,
    "slideshow": {
     "slide_type": "subslide"
    }
   },
   "outputs": [
    {
     "data": {
      "image/png": "[encoded data removed]",
      "text/plain": [
       "Plot with title “”"
      ]
     },
     "metadata": {},
     "output_type": "display_data"
    }
   ],
   "source": [
    "#Cargo la libreria\n",
    "library('mclust')\n",
    "#Entreno el modelo\n",
    "Mclust(data = iris[,-5],G = 1:4)->model\n",
    "#Visualizo los resultados\n",
    "options(repr.plot.width=5, repr.plot.height=3)\n",
    "plot.Mclust(model,what = 'classification',dimens = c(1,2),main='')"
   ]
  },
  {
   "cell_type": "markdown",
   "metadata": {
    "slideshow": {
     "slide_type": "slide"
    }
   },
   "source": [
    "### El aprendizaje automático en la Astronomía."
   ]
  },
  {
   "cell_type": "markdown",
   "metadata": {
    "slideshow": {
     "slide_type": "subslide"
    }
   },
   "source": [
    "* Ann-z: Estimación de redshift a partir de datos fotométricos utilizando redes neuronales.\n",
    "* Técnicas de aprendizaje automático aplicadas a simulaciones cosmológicas para la construcción de catálogos simulados (1303.1055, 1510.07659, 1510.06402).\n",
    "* Estimnación de masas de cúmulos de galaxias utilizando SDM (1509.05409).\n",
    "* Clasificación morfológica de galaxias utilizando aprendizaje automático supervisado (1005.0390)."
   ]
  },
  {
   "cell_type": "markdown",
   "metadata": {
    "slideshow": {
     "slide_type": "subslide"
    }
   },
   "source": [
    "#### PAPER BRUNO Y JUAN"
   ]
  },
  {
   "cell_type": "markdown",
   "metadata": {
    "slideshow": {
     "slide_type": "subslide"
    }
   },
   "source": [
    "#### MeSsI\n",
    "Clasificación de cúmulos de galaxias en proceso de fusión utilizando random forest.\n",
    "\n",
    "<center>\n",
    "<img src='messi1.jpg' width='600'>\n"
   ]
  },
  {
   "cell_type": "markdown",
   "metadata": {
    "slideshow": {
     "slide_type": "slide"
    }
   },
   "source": [
    "### Sobre los parámetros cosmólogicos y como medirlos."
   ]
  },
  {
   "cell_type": "markdown",
   "metadata": {
    "slideshow": {
     "slide_type": "subslide"
    }
   },
   "source": [
    "|||\n",
    "|:------|------:|\n",
    "|<img style=\"float: left;\" src='supernovas.png' width=480>|<img style=\"float: right;\" src='planck.png' width=610>|\n",
    "|*Supernovas JLA (1512.07869)*|*Fondo Cósmico de Microondas (1502.01589)*|"
   ]
  },
  {
   "cell_type": "markdown",
   "metadata": {
    "slideshow": {
     "slide_type": "subslide"
    }
   },
   "source": [
    "<center>\n",
    "<img align='center' src=bananas2.png width=700>\n",
    "*Estimación de los parámetros cosmológicos (1401.4064)*"
   ]
  },
  {
   "cell_type": "markdown",
   "metadata": {
    "slideshow": {
     "slide_type": "subslide"
    }
   },
   "source": [
    "|||\n",
    "|:------|------:|\n",
    "|<img style=\"float: left;\" src='matter.png' width=500>|<img style=\"float: right;\" src='hubble.png' width=500>|\n",
    "*Distribución Angular de los parámetros cosmológicos medidos con supernovas (1512.07869).*"
   ]
  },
  {
   "cell_type": "markdown",
   "metadata": {
    "slideshow": {
     "slide_type": "subslide"
    }
   },
   "source": [
    "#### Problemas\n",
    "* Estimar la distribución angular de los parámetros cosmológicos utilizando datos de supernovas -> Muchos pixeles con pocos datos\n",
    "* La estimación de los parámetros cosmológicos a través de datos del CMB requiere la utilización de cadenas de Markov Monte-Carlo -> Mucho Tiempo de Cómputo\n",
    "* Para estimar los intervalos de confidencia, en los diferentes planos, utilizando varios conjuntos de datos se necesita conocer la matriz de covarianza entre los conjuntos de datos -> **La estimación de dicha matriz de covarianza es un tema de estudio actual**"
   ]
  },
  {
   "cell_type": "markdown",
   "metadata": {
    "slideshow": {
     "slide_type": "subslide"
    }
   },
   "source": [
    "<center>\n",
    "<img src=simus.png width=970>"
   ]
  },
  {
   "cell_type": "markdown",
   "metadata": {
    "slideshow": {
     "slide_type": "slide"
    }
   },
   "source": [
    "### Estimación de la distribución angular de los parámetros cosmológicos mediante métodos de aprendizaje automático aplicados a datos del CMB y de supernovas.\n"
   ]
  },
  {
   "cell_type": "markdown",
   "metadata": {
    "slideshow": {
     "slide_type": "subslide"
    }
   },
   "source": [
    "#### Soluciones\n",
    "\n",
    "* Utilizando los datos del CMB hay una mayor cantidad de datos en todos los pixeles.\n",
    "* Una vez que se construyó el conjunto de entrenamiento y se entrenó el algoritmo de aprendizaje automático, la estimación de los parámetros cosmológicos no requiere mucho tiempo de cómputo.\n",
    "* No es necesario conocer la matriz de covarianza entre los diferentes conjuntos de datos."
   ]
  },
  {
   "cell_type": "markdown",
   "metadata": {
    "slideshow": {
     "slide_type": "subslide"
    }
   },
   "source": [
    "<center>\n",
    "<img align='middle' src=spec_examples.jpeg width=670>\n",
    "\n",
    "*Espectros de potencia generados por **CAMB***"
   ]
  },
  {
   "cell_type": "markdown",
   "metadata": {},
   "source": [
    "<center> Mixtura de Gaussianas\n",
    "\n",
    "<img src=mixt_gauss.jpg width=700>"
   ]
  },
  {
   "cell_type": "markdown",
   "metadata": {
    "slideshow": {
     "slide_type": "subslide"
    }
   },
   "source": [
    "<center> Random Forest <img src=cmb_rf.jpeg width=600> $\\Delta\\Omega_{m}*h^{2} = 0.002$ $\\Delta\\Omega_{k} = 0.007$ $\\Delta\\Omega_{b}*h^{2} = 0.005$ $\\Delta H_{0} = 2.8$\n"
   ]
  },
  {
   "cell_type": "markdown",
   "metadata": {
    "slideshow": {
     "slide_type": "subslide"
    }
   },
   "source": [
    "<center> Support Vector Machine <img src=cmb_svm.jpeg width=600> $\\Delta\\Omega_{m}*h^{2} = 0.0009$ $\\Delta\\Omega_{k} = 0.006$ $\\Delta\\Omega_{b}*h^{2} = 0.0002$ $\\Delta H_{0} = 2.8$"
   ]
  },
  {
   "cell_type": "markdown",
   "metadata": {
    "slideshow": {
     "slide_type": "subslide"
    }
   },
   "source": [
    "<center> <img src=sn_examples.png width=670> *Conjunto de supernovas simuladas*"
   ]
  },
  {
   "cell_type": "markdown",
   "metadata": {
    "slideshow": {
     "slide_type": "subslide"
    }
   },
   "source": [
    "<center> Random Forest <img src=sn_570.jpeg width=600> $\\Delta\\Omega_{m}*h^{2} = 0.01$ $\\Delta\\Omega_{k} = 0.05$ $\\Delta\\Omega_{b}*h^{2} = 0.003$ $\\Delta H_{0} = 1.4$"
   ]
  },
  {
   "cell_type": "markdown",
   "metadata": {
    "slideshow": {
     "slide_type": "subslide"
    }
   },
   "source": [
    "<center> Support Vector Machine <img src=sn_100.jpeg width=600> $\\Delta\\Omega_{m}*h^{2} = 0.01$ $\\Delta\\Omega_{k} = 0.06$ $\\Delta\\Omega_{b}*h^{2} = 0.003$ $\\Delta H_{0} = 2.3$"
   ]
  },
  {
   "cell_type": "markdown",
   "metadata": {
    "slideshow": {
     "slide_type": "subslide"
    }
   },
   "source": [
    "<center> Random Forest <img src=cmb_sn_rf.jpeg width=600 > $\\Delta\\Omega_{m}*h^{2} = 0.003$ $\\Delta\\Omega_{k} = 0.005$ $\\Delta\\Omega_{b}*h^{2} = 0.0007$ $\\Delta H_{0} = 0.5$"
   ]
  },
  {
   "cell_type": "markdown",
   "metadata": {
    "slideshow": {
     "slide_type": "subslide"
    }
   },
   "source": [
    "<center> Support Vector Machine <img src=cmb_sn_svm.jpeg width=600 > $\\Delta\\Omega_{m}*h^{2} = 0.001$ $\\Delta\\Omega_{k} = 0.004$ $\\Delta\\Omega_{b}*h^{2} = 0.0002$ $\\Delta H_{0} = 0.27$"
   ]
  },
  {
   "cell_type": "markdown",
   "metadata": {
    "slideshow": {
     "slide_type": "slide"
    }
   },
   "source": [
    "### Distribución angular de los parámetros cosmológicos\n",
    "\n",
    "* Planck + Sn tipo Ia (jlca)\n",
    "* Support Vector Machine\n",
    "* Healpix"
   ]
  },
  {
   "cell_type": "markdown",
   "metadata": {
    "slideshow": {
     "slide_type": "subslide"
    }
   },
   "source": [
    "<center>  <img src=h_pred.png width=900 > "
   ]
  },
  {
   "cell_type": "markdown",
   "metadata": {
    "slideshow": {
     "slide_type": "subslide"
    }
   },
   "source": [
    "<center>  <img src=om_pred.png width=900 > "
   ]
  },
  {
   "cell_type": "markdown",
   "metadata": {
    "slideshow": {
     "slide_type": "subslide"
    }
   },
   "source": [
    "<center>  <img src=omb_pred.png width=900 > "
   ]
  },
  {
   "cell_type": "markdown",
   "metadata": {
    "slideshow": {
     "slide_type": "subslide"
    }
   },
   "source": [
    "<center>  <img src=omk_pred.png width=900 > "
   ]
  },
  {
   "cell_type": "markdown",
   "metadata": {
    "slideshow": {
     "slide_type": "slide"
    }
   },
   "source": [
    "## Conclusiones y Trabajo futuro"
   ]
  },
  {
   "cell_type": "markdown",
   "metadata": {
    "slideshow": {
     "slide_type": "subslide"
    }
   },
   "source": [
    "* Desarrollamos un método de aprendizaje automático que permite calcular los parámetros cosmológicos de una manera mucho más eficiente que la tradicional.\n",
    "* Este método tiene la ventaja de poder utilizar a la vez los datos de supernovas y del cmb.\n",
    "* Gracias a la velocidad de dicho método, pudimos calcular los parámetros cosmológicos en diferentes sectores del cielo."
   ]
  },
  {
   "cell_type": "markdown",
   "metadata": {
    "slideshow": {
     "slide_type": "slide"
    }
   },
   "source": [
    "<center>\n",
    "<img src=gracias.png width=1000>"
   ]
  }
 ],
 "metadata": {
  "celltoolbar": "Slideshow",
  "kernelspec": {
   "display_name": "R",
   "language": "R",
   "name": "ir"
  },
  "language_info": {
   "codemirror_mode": "r",
   "file_extension": ".r",
   "mimetype": "text/x-r-source",
   "name": "R",
   "pygments_lexer": "r",
   "version": "3.3.1"
  },
  "livereveal": {
   "theme": "solarized",
   "transition": "Convex"
  }
 },
 "nbformat": 4,
 "nbformat_minor": 1
}
